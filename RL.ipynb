{
  "nbformat": 4,
  "nbformat_minor": 0,
  "metadata": {
    "colab": {
      "name": "RL.ipynb",
      "provenance": [],
      "collapsed_sections": [
        "jrI6q7RmWQam"
      ]
    },
    "kernelspec": {
      "name": "python3",
      "display_name": "Python 3"
    },
    "accelerator": "GPU"
  },
  "cells": [
    {
      "cell_type": "markdown",
      "metadata": {
        "id": "jrI6q7RmWQam",
        "colab_type": "text"
      },
      "source": [
        "<table align=\"center\">\n",
        "  <td align=\"center\"><a target=\"_blank\" href=\"http://introtodeeplearning.com\">\n",
        "        <img src=\"http://introtodeeplearning.com/images/colab/mit.png\" style=\"padding-bottom:5px;\" />\n",
        "      Visit MIT Deep Learning</a></td>\n",
        "  <td align=\"center\"><a target=\"_blank\" href=\"https://colab.research.google.com/github/aamini/introtodeeplearning/blob/master/lab3/RL.ipynb\">\n",
        "        <img src=\"http://introtodeeplearning.com/images/colab/colab.png?v2.0\"  style=\"padding-bottom:5px;\" />Run in Google Colab</a></td>\n",
        "  <td align=\"center\"><a target=\"_blank\" href=\"https://github.com/aamini/introtodeeplearning/blob/master/lab3/RL.ipynb\">\n",
        "        <img src=\"http://introtodeeplearning.com/images/colab/github.png\"  height=\"70px\" style=\"padding-bottom:5px;\"  />View Source on GitHub</a></td>\n",
        "</table>\n",
        "\n",
        "# Copyright Information"
      ]
    },
    {
      "cell_type": "code",
      "metadata": {
        "id": "wkd375upWYok",
        "colab_type": "code",
        "colab": {}
      },
      "source": [
        "# Copyright 2020 MIT 6.S191 Introduction to Deep Learning. All Rights Reserved.\n",
        "# \n",
        "# Licensed under the MIT License. You may not use this file except in compliance\n",
        "# with the License. Use and/or modification of this code outside of 6.S191 must\n",
        "# reference:\n",
        "#\n",
        "# © MIT 6.S191: Introduction to Deep Learning\n",
        "# http://introtodeeplearning.com\n",
        "#"
      ],
      "execution_count": 0,
      "outputs": []
    },
    {
      "cell_type": "markdown",
      "metadata": {
        "id": "WoXYKhfZMHiw",
        "colab_type": "text"
      },
      "source": [
        "# Laboratory 3: Reinforcement Learning\n",
        "\n",
        "Reinforcement learning (RL) is a subset of machine learning which poses learning problems as interactions between agents and environments. It often assumes agents have no prior knowledge of a world, so they must learn to navigate environments by optimizing a reward function. Within an environment, an agent can take certain actions and receive feedback, in the form of positive or negative rewards, with respect to their decision. As such, an agent's feedback loop is somewhat akin to the idea of \"trial and error\", or the manner in which a child might learn to distinguish between \"good\" and \"bad\" actions.\n",
        "\n",
        "In practical terms, our RL agent will interact with the environment by taking an action at each timestep, receiving a corresponding reward, and updating its state according to what it has \"learned\".  \n",
        "\n",
        "![alt text](https://www.kdnuggets.com/images/reinforcement-learning-fig1-700.jpg)\n",
        "\n",
        "While the ultimate goal of reinforcement learning is to teach agents to act in the real, physical world, games provide a convenient proving ground for developing RL algorithms and agents. Games have some properties that make them particularly well suited for RL: \n",
        "\n",
        "1.   In many cases, games have perfectly describable environments. For example, all rules of chess can be formally written and programmed into a chess game simulator;\n",
        "2.   Games are massively parallelizable. Since they do not require running in the real world, simultaneous environments can be run on large data clusters; \n",
        "3.   Simpler scenarios in games enable fast prototyping. This speeds up the development of algorithms that could eventually run in the real-world; and\n",
        "4.   ... Games are fun! \n",
        "\n",
        "In previous labs, we have explored both supervised (with LSTMs, CNNs) and unsupervised / semi-supervised (with VAEs) learning tasks. Reinforcement learning is fundamentally different, in that we are training a deep learning algorithm to govern the actions of our RL agent, that is trying, within its environment, to find the optimal way to achieve a goal. The goal of training an RL agent is to determine the best next step to take to earn the greatest final payoff or return. In this lab, we focus on building a reinforcement learning algorithm to master two different environments with varying complexity. \n",
        "\n",
        "1.   **Cartpole**:   Balance a pole, protruding from a cart, in an upright position by only moving the base left or right. Environment with a low-dimensional observation space.\n",
        "2.   [**Pong**](https://en.wikipedia.org/wiki/Pong): Beat your competitors (whether other AI or humans!) at the game of Pong. Environment with a high-dimensional observation space -- learning directly from raw pixels.\n",
        "\n",
        "Let's get started! First we'll import TensorFlow, the course package, and some dependencies.\n"
      ]
    },
    {
      "cell_type": "code",
      "metadata": {
        "id": "EvdePP-VyVWp",
        "colab_type": "code",
        "outputId": "08dc7255-3e61-4006-bfa6-7a10840956e2",
        "colab": {
          "base_uri": "https://localhost:8080/",
          "height": 170
        }
      },
      "source": [
        "!apt-get install -y xvfb python-opengl x11-utils > /dev/null 2>&1\n",
        "!pip install gym pyvirtualdisplay scikit-video > /dev/null 2>&1\n",
        "\n",
        "%tensorflow_version 2.x\n",
        "import tensorflow as tf\n",
        "\n",
        "import numpy as np\n",
        "import base64, io, time, gym\n",
        "import IPython, functools\n",
        "import matplotlib.pyplot as plt\n",
        "from tqdm import tqdm\n",
        "\n",
        "!pip install mitdeeplearning\n",
        "import mitdeeplearning as mdl"
      ],
      "execution_count": 0,
      "outputs": [
        {
          "output_type": "stream",
          "text": [
            "Requirement already satisfied: mitdeeplearning in /usr/local/lib/python3.6/dist-packages (0.1.2)\n",
            "Requirement already satisfied: regex in /usr/local/lib/python3.6/dist-packages (from mitdeeplearning) (2019.12.20)\n",
            "Requirement already satisfied: tqdm in /usr/local/lib/python3.6/dist-packages (from mitdeeplearning) (4.41.1)\n",
            "Requirement already satisfied: numpy in /usr/local/lib/python3.6/dist-packages (from mitdeeplearning) (1.18.4)\n",
            "Requirement already satisfied: gym in /usr/local/lib/python3.6/dist-packages (from mitdeeplearning) (0.17.2)\n",
            "Requirement already satisfied: scipy in /usr/local/lib/python3.6/dist-packages (from gym->mitdeeplearning) (1.4.1)\n",
            "Requirement already satisfied: cloudpickle<1.4.0,>=1.2.0 in /usr/local/lib/python3.6/dist-packages (from gym->mitdeeplearning) (1.3.0)\n",
            "Requirement already satisfied: pyglet<=1.5.0,>=1.4.0 in /usr/local/lib/python3.6/dist-packages (from gym->mitdeeplearning) (1.5.0)\n",
            "Requirement already satisfied: future in /usr/local/lib/python3.6/dist-packages (from pyglet<=1.5.0,>=1.4.0->gym->mitdeeplearning) (0.16.0)\n"
          ],
          "name": "stdout"
        }
      ]
    },
    {
      "cell_type": "markdown",
      "metadata": {
        "id": "zmrHSiXKTXTY",
        "colab_type": "text"
      },
      "source": [
        "Before we dive in, let's take a step back and outline our approach, which is generally applicable to reinforcement learning problems in general:\n",
        "\n",
        "1. **Initialize our environment and our agent**: here we will describe the different observations and actions the agent can make in the environemnt.\n",
        "2. **Define our agent's memory**: this will enable the agent to remember its past actions, observations, and rewards.\n",
        "3. **Define a reward function**: describes the reward associated with an action or sequence of actions.\n",
        "4. **Define the learning algorithm**: this will be used to reinforce the agent's good behaviors and discourage bad behaviors.\n"
      ]
    },
    {
      "cell_type": "markdown",
      "metadata": {
        "id": "UT7YL8KBJIIc",
        "colab_type": "text"
      },
      "source": [
        "# Part 1: Cartpole\n",
        "\n",
        "## 3.1 Define the Cartpole environment and agent\n",
        "\n",
        "### Environment \n",
        "\n",
        "In order to model the environment for both the Cartpole and Pong tasks, we'll be using a toolkit developed by OpenAI called [OpenAI Gym](https://gym.openai.com/). It provides several pre-defined environments for training and testing reinforcement learning agents, including those for classic physics control tasks, Atari video games, and robotic simulations. To access the Cartpole environment, we can use `env = gym.make(\"CartPole-v0\")`, which we gained access to when we imported the `gym` package. We can instantiate different [environments](https://gym.openai.com/envs/#classic_control) by passing the enivronment name to the `make` function.\n",
        "\n",
        "One issue we might experience when developing RL algorithms is that many aspects of the learning process are inherently random: initializing game states, changes in the environment, and the agent's actions. As such, it can be helpful to set a initial \"seed\" for the environment to ensure some level of reproducibility. Much like you might use `numpy.random.seed`, we can call the comparable function in gym, `seed`, with our defined environment to ensure the environment's random variables are initialized the same each time."
      ]
    },
    {
      "cell_type": "code",
      "metadata": {
        "id": "quv9SC0iIYFm",
        "colab_type": "code",
        "outputId": "f4c94b55-3048-45be-c4ca-92084bce5375",
        "colab": {
          "base_uri": "https://localhost:8080/",
          "height": 34
        }
      },
      "source": [
        "### Instantiate the Cartpole environment ###\n",
        "\n",
        "env = gym.make(\"CartPole-v0\")\n",
        "env.seed(1)"
      ],
      "execution_count": 0,
      "outputs": [
        {
          "output_type": "execute_result",
          "data": {
            "text/plain": [
              "[1]"
            ]
          },
          "metadata": {
            "tags": []
          },
          "execution_count": 28
        }
      ]
    },
    {
      "cell_type": "markdown",
      "metadata": {
        "id": "mhEITUcKK455",
        "colab_type": "text"
      },
      "source": [
        "In Cartpole, a pole is attached by an un-actuated joint to a cart, which moves along a frictionless track. The pole starts upright, and the goal is to prevent it from falling over. The system is controlled by applying a force of +1 or -1 to the cart. A reward of +1 is provided for every timestep that the pole remains upright. The episode ends when the pole is more than 15 degrees from vertical, or the cart moves more than 2.4 units from the center of the track. A visual summary of the cartpole environment is depicted below:\n",
        "\n",
        "<img width=\"400px\" src=\"https://danielpiedrahita.files.wordpress.com/2017/02/cart-pole.png\"></img>\n",
        "\n",
        "Given this setup for the environment and the objective of the game, we can think about: 1) what observations help define the environment's state; 2) what actions the agent can take. \n",
        "\n",
        "First, let's consider the observation space. In this Cartpole environment our observations are:\n",
        "\n",
        "1. Cart position\n",
        "2. Cart velocity\n",
        "3. Pole angle\n",
        "4. Pole rotation rate\n",
        "\n",
        "We can confirm the size of the space by querying the environment's observation space:\n"
      ]
    },
    {
      "cell_type": "code",
      "metadata": {
        "id": "UVJaEcbdIX82",
        "colab_type": "code",
        "outputId": "aeb13269-eaca-4474-fe6f-00e256257aa3",
        "colab": {
          "base_uri": "https://localhost:8080/",
          "height": 34
        }
      },
      "source": [
        "n_observations = env.observation_space\n",
        "print(\"Environment has observation space =\", n_observations)"
      ],
      "execution_count": 0,
      "outputs": [
        {
          "output_type": "stream",
          "text": [
            "Environment has observation space = Box(4,)\n"
          ],
          "name": "stdout"
        }
      ]
    },
    {
      "cell_type": "markdown",
      "metadata": {
        "id": "ZibGgjrALgPM",
        "colab_type": "text"
      },
      "source": [
        "Second, we consider the action space. At every time step, the agent can move either right or left. Again we can confirm the size of the action space by querying the environment:"
      ]
    },
    {
      "cell_type": "code",
      "metadata": {
        "id": "qc9SIPxBIXrm",
        "colab_type": "code",
        "outputId": "467fa3fd-20c1-45a5-e820-c77d52158218",
        "colab": {
          "base_uri": "https://localhost:8080/",
          "height": 34
        }
      },
      "source": [
        "n_actions = env.action_space.n\n",
        "print(\"Number of possible actions that the agent can choose from =\", n_actions)"
      ],
      "execution_count": 0,
      "outputs": [
        {
          "output_type": "stream",
          "text": [
            "Number of possible actions that the agent can choose from = 2\n"
          ],
          "name": "stdout"
        }
      ]
    },
    {
      "cell_type": "markdown",
      "metadata": {
        "id": "pPfHME8aRKkb",
        "colab_type": "text"
      },
      "source": [
        "### Cartpole agent\n",
        "\n",
        "Now that we have instantiated the environment and understood the dimensionality of the observation and action spaces, we are ready to define our agent. In deep reinforcement learning, a deep neural network defines the agent. This network will take as input an observation of the environment and output the probability of taking each of the possible actions. Since Cartpole is defined by a low-dimensional observation space, a simple feed-forward neural network should work well for our agent. We will define this using the `Sequential` API.\n"
      ]
    },
    {
      "cell_type": "code",
      "metadata": {
        "id": "W-o_XK4oQ4eu",
        "colab_type": "code",
        "colab": {}
      },
      "source": [
        "### Define the Cartpole agent ###\n",
        "\n",
        "# Defines a feed-forward neural network\n",
        "def create_cartpole_model():\n",
        "  model = tf.keras.models.Sequential([\n",
        "      # First Dense layer\n",
        "      tf.keras.layers.Dense(units=32, activation='relu'),\n",
        "\n",
        "      # TODO: Define the last Dense layer, which will provide the network's output.\n",
        "      # Think about the space the agent needs to act in!\n",
        "      tf.keras.layers.Dense(units=n_actions , activation=None)\n",
        "\n",
        "  ])\n",
        "  return model\n",
        "\n",
        "cartpole_model = create_cartpole_model()"
      ],
      "execution_count": 0,
      "outputs": []
    },
    {
      "cell_type": "markdown",
      "metadata": {
        "id": "d5D5NSIYS2IW",
        "colab_type": "text"
      },
      "source": [
        "Now that we have defined the core network architecture, we will define an *action function* that executes a forward pass through the network, given a set of observations, and samples from the output. This sampling from the output probabilities will be used to select the next action for the agent. \n",
        "\n",
        "**Critically, this action function is totally general -- we will use this function for both Cartpole and Pong, and it is applicable to other RL tasks, as well!**"
      ]
    },
    {
      "cell_type": "code",
      "metadata": {
        "id": "E_vVZRr8Q4R_",
        "colab_type": "code",
        "colab": {}
      },
      "source": [
        "### Define the agent's action function ###\n",
        "\n",
        "# Function that takes observations as input, executes a forward pass through model, \n",
        "#   and outputs a sampled action.\n",
        "# Arguments:\n",
        "#   model: the network that defines our agent\n",
        "#   observation: observation which is fed as input to the model\n",
        "# Returns:\n",
        "#   action: choice of agent action\n",
        "def choose_action(model, observation):\n",
        "  # add batch dimension to the observation\n",
        "  observation = np.expand_dims(observation, axis=0)\n",
        "\n",
        "  '''TODO: feed the observations through the model to predict the log probabilities of each possible action.'''\n",
        "  logits = model.predict(observation)\n",
        "  \n",
        "  # pass the log probabilities through a softmax to compute true probabilities\n",
        "  prob_weights = tf.nn.softmax(logits).numpy()\n",
        "  \n",
        "  '''TODO: randomly sample from the prob_weights to pick an action.\n",
        "  Hint: carefully consider the dimensionality of the input probabilities (vector) and the output action (scalar)'''\n",
        "  action = np.random.choice(n_actions, size=1, p=prob_weights.flatten())[0]\n",
        "\n",
        "  return action"
      ],
      "execution_count": 0,
      "outputs": []
    },
    {
      "cell_type": "markdown",
      "metadata": {
        "id": "_tR9uAWcTnkr",
        "colab_type": "text"
      },
      "source": [
        "## 3.2 Define the agent's memory\n",
        "\n",
        "Now that we have instantiated the environment and defined the agent network architecture and action function, we are ready to move on to the next step in our RL workflow:\n",
        "1. **Initialize our environment and our agent**: here we will describe the different observations and actions the agent can make in the environemnt.\n",
        "2. **Define our agent's memory**: this will enable the agent to remember its past actions, observations, and rewards.\n",
        "3. **Define the learning algorithm**: this will be used to reinforce the agent's good behaviors and discourage bad behaviors.\n",
        "\n",
        "In reinforcement learning, training occurs alongside the agent's acting in the environment; an *episode* refers to a sequence of actions that ends in some terminal state, such as the pole falling down or the cart crashing. The agent will need to remember all of its observations and actions, such that once an episode ends, it can learn to \"reinforce\" the good actions and punish the undesirable actions via training. Our first step is to define a simple memory buffer that contains the agent's observations, actions, and received rewards from a given episode. \n",
        "\n",
        "**Once again, note the modularity of this memory buffer -- it can and will be applied to other RL tasks as well!**"
      ]
    },
    {
      "cell_type": "code",
      "metadata": {
        "id": "8MM6JwXVQ4JG",
        "colab_type": "code",
        "colab": {}
      },
      "source": [
        "### Agent Memory ###\n",
        "\n",
        "class Memory:\n",
        "  def __init__(self): \n",
        "      self.clear()\n",
        "\n",
        "  # Resets/restarts the memory buffer\n",
        "  def clear(self): \n",
        "      self.observations = []\n",
        "      self.actions = []\n",
        "      self.rewards = []\n",
        "\n",
        "  # Add observations, actions, rewards to memory\n",
        "  def add_to_memory(self, new_observation, new_action, new_reward): \n",
        "      self.observations.append(new_observation)\n",
        "      '''TODO: update the list of actions with new action'''\n",
        "      self.actions.append(new_action)\n",
        "      '''TODO: update the list of rewards with new reward'''\n",
        "      self.rewards.append(new_append)\n",
        "        \n",
        "memory = Memory()"
      ],
      "execution_count": 0,
      "outputs": []
    },
    {
      "cell_type": "markdown",
      "metadata": {
        "id": "D4YhtPaUVj5m",
        "colab_type": "text"
      },
      "source": [
        "## 3.3 Reward function\n",
        "\n",
        "We're almost ready to begin the learning algorithm for our agent! The next step is to compute the rewards of our agent as it acts in the environment. Since we (and the agent) is uncertain about if and when the game or task will end (i.e., when the pole will fall), it is useful to emphasize getting rewards **now** rather than later in the future -- this is the idea of discounting. This is a similar concept to discounting money in the case of interest. ecall from lecture, we use reward discount to give more preference at getting rewards now rather than later in the future. The idea of discounting rewards is similar to discounting money in the case of interest.\n",
        "\n",
        "To compute the expected cumulative reward, known as the **return**, at a given timestep in a learning episode, we sum the discounted rewards expected at that time step $t$, within a learning episode, and projecting into the future. We define the return (cumulative reward) at a time step $t$, $R_{t}$ as:\n",
        "\n",
        ">$R_{t}=\\sum_{k=0}^\\infty\\gamma^kr_{t+k}$\n",
        "\n",
        "where  $0 < \\gamma < 1$ is the discount factor and $r_{t}$ is the reward at time step $t$, and the index $k$ increments projection into the future within a single learning episode. Intuitively, you can think of this function as depreciating any rewards received at later time steps, which will force the agent prioritize getting rewards now. Since we can't extend episodes to infinity, in practice the computation will be limited to the number of timesteps in an episode -- after that the reward is assumed to be zero.\n",
        "\n",
        "Take note of the form of this sum -- we'll have to be clever about how we implement this function. Specifically, we'll need to initialize an array of zeros, with length of the number of time steps, and fill it with the real discounted reward values as we loop through the rewards from the episode, which will have been saved in the agents memory. What we ultimately care about is which actions are better relative to other actions taken in that episode -- so, we'll normalize our computed rewards, using the mean and standard deviation of the rewards across the learning episode.\n"
      ]
    },
    {
      "cell_type": "code",
      "metadata": {
        "id": "5_Q2OFYtQ32X",
        "colab_type": "code",
        "colab": {}
      },
      "source": [
        "### Reward function ###\n",
        "\n",
        "# Helper function that normalizes an np.array x\n",
        "def normalize(x):\n",
        "  x -= np.mean(x)\n",
        "  x /= np.std(x)\n",
        "  return x.astype(np.float32)\n",
        "\n",
        "# Compute normalized, discounted, cumulative rewards (i.e., return)\n",
        "# Arguments:\n",
        "#   rewards: reward at timesteps in episode\n",
        "#   gamma: discounting factor\n",
        "# Returns:\n",
        "#   normalized discounted reward\n",
        "def discount_rewards(rewards, gamma=0.95): \n",
        "  discounted_rewards = np.zeros_like(rewards)\n",
        "  R = 0\n",
        "  for t in reversed(range(0, len(rewards))):\n",
        "      # update the total discounted reward\n",
        "      R = R * gamma + rewards[t]\n",
        "      discounted_rewards[t] = R\n",
        "      \n",
        "  return normalize(discounted_rewards)"
      ],
      "execution_count": 0,
      "outputs": []
    },
    {
      "cell_type": "markdown",
      "metadata": {
        "id": "QzbY-mjGYcmt",
        "colab_type": "text"
      },
      "source": [
        "## 3.4 Learning algorithm\n",
        "\n",
        "Now we can start to define the learing algorithm which will be used to reinforce good behaviors of the agent and discourage bad behaviours. In this lab, we will focus on *policy gradient* methods which aim to **maximize** the likelihood of actions that result in large rewards. Equivalently, this means that we want to **minimize** the negative likelihood of these same actions. We achieve this by simply **scaling** the probabilities by their associated rewards -- effectively amplifying the likelihood of actions that result in large rewards.\n",
        "\n",
        "Since the log function is monotonically increasing, this means that minimizing **negative likelihood** is equivalent to minimizing **negative log-likelihood**.  Recall that we can easily compute the negative log-likelihood of a discrete action by evaluting its [softmax cross entropy](https://www.tensorflow.org/api_docs/python/tf/nn/sparse_softmax_cross_entropy_with_logits). Like in supervised learning, we can use stochastic gradient descent methods to achieve the desired minimization. \n",
        "\n",
        "Let's begin by defining the loss function."
      ]
    },
    {
      "cell_type": "code",
      "metadata": {
        "id": "fsgZ3IDCY_Zn",
        "colab_type": "code",
        "colab": {}
      },
      "source": [
        "### Loss function ###\n",
        "\n",
        "# Arguments:\n",
        "#   logits: network's predictions for actions to take\n",
        "#   actions: the actions the agent took in an episode\n",
        "#   rewards: the rewards the agent received in an episode\n",
        "# Returns:\n",
        "#   loss\n",
        "def compute_loss(logits, actions, rewards): \n",
        "  '''TODO: complete the function call to compute the negative log probabilities'''\n",
        "  neg_logprob = tf.nn.sparse_softmax_cross_entropy_with_logits(logits=logits, labels=actions)\n",
        "  \n",
        "  '''TODO: scale the negative log probability by the rewards'''\n",
        "  loss = tf.reduce_mean(neg_logprob * rewards)\n",
        "  return loss"
      ],
      "execution_count": 0,
      "outputs": []
    },
    {
      "cell_type": "markdown",
      "metadata": {
        "id": "Rr5vQ9fqbPpp",
        "colab_type": "text"
      },
      "source": [
        "Now let's use the loss function to define a training step of our learning algorithm:"
      ]
    },
    {
      "cell_type": "code",
      "metadata": {
        "id": "_50ada7nbZ7L",
        "colab_type": "code",
        "colab": {}
      },
      "source": [
        "### Training step (forward and backpropagation) ###\n",
        "\n",
        "def train_step(model, optimizer, observations, actions, discounted_rewards):\n",
        "  with tf.GradientTape() as tape:\n",
        "      # Forward propagate through the agent network\n",
        "      logits = model(observations)\n",
        "\n",
        "      '''TODO: call the compute_loss function to compute the loss'''\n",
        "      loss = compute_loss(logits, actions, discounted_rewards)\n",
        "\n",
        "  '''TODO: run backpropagation to minimize the loss using the tape.gradient method.\n",
        "      Use `model.trainable_variables`'''\n",
        "  grads = tape.gradient(loss, model.trainable_variables)\n",
        "  optimizer.apply_gradients(zip(grads, model.trainable_variables))\n"
      ],
      "execution_count": 0,
      "outputs": []
    },
    {
      "cell_type": "markdown",
      "metadata": {
        "id": "XsjKXh6BcgjR",
        "colab_type": "text"
      },
      "source": [
        "## 3.5 Run cartpole!\n",
        "\n",
        "Having had no prior knowledge of the environment, the agent will begin to learn how to balance the pole on the cart based only on the feedback received from the environment! Having defined how our agent can move, how it takes in new observations, and how it updates its state, we'll see how it gradually learns a policy of actions to optimize balancing the pole as long as possible. To do this, we'll track how the rewards evolve as a function of training -- how should the rewards change as training progresses?"
      ]
    },
    {
      "cell_type": "code",
      "metadata": {
        "id": "XmOzc2rrcn8Q",
        "colab_type": "code",
        "outputId": "f5df412a-5198-4e29-9c89-1e650d46b323",
        "colab": {
          "base_uri": "https://localhost:8080/",
          "height": 350
        }
      },
      "source": [
        "### Cartpole training! ###\n",
        "\n",
        "# Learning rate and optimizer\n",
        "learning_rate = 1e-3\n",
        "optimizer = tf.keras.optimizers.Adam(learning_rate)\n",
        "\n",
        "# instantiate cartpole agent\n",
        "cartpole_model = create_cartpole_model()\n",
        "\n",
        "# to track our progress\n",
        "smoothed_reward = mdl.util.LossHistory(smoothing_factor=0.9)\n",
        "plotter = mdl.util.PeriodicPlotter(sec=2, xlabel='Iterations', ylabel='Rewards')\n",
        "\n",
        "if hasattr(tqdm, '_instances'): tqdm._instances.clear() # clear if it exists\n",
        "for i_episode in range(500):\n",
        "\n",
        "  plotter.plot(smoothed_reward.get())\n",
        "\n",
        "  # Restart the environment\n",
        "  observation = env.reset()\n",
        "  memory.clear()\n",
        "\n",
        "  while True:\n",
        "      # using our observation, choose an action and take it in the environment\n",
        "      action = choose_action(cartpole_model, observation)\n",
        "      next_observation, reward, done, info = env.step(action)\n",
        "      # add to memory\n",
        "      memory.add_to_memory(observation, action, reward)\n",
        "      \n",
        "      # is the episode over? did you crash or do so well that you're done?\n",
        "      if done:\n",
        "          # determine total reward and keep a record of this\n",
        "          total_reward = sum(memory.rewards)\n",
        "          smoothed_reward.append(total_reward)\n",
        "          \n",
        "          # initiate training - remember we don't know anything about how the \n",
        "          #   agent is doing until it has crashed!\n",
        "          train_step(cartpole_model, optimizer, \n",
        "                     observations=np.vstack(memory.observations),\n",
        "                     actions=np.array(memory.actions),\n",
        "                     discounted_rewards = discount_rewards(memory.rewards))\n",
        "          \n",
        "          # reset the memory\n",
        "          memory.clear()\n",
        "          break\n",
        "      # update our observatons\n",
        "      observation = next_observation"
      ],
      "execution_count": 0,
      "outputs": [
        {
          "output_type": "error",
          "ename": "NameError",
          "evalue": "ignored",
          "traceback": [
            "\u001b[0;31m---------------------------------------------------------------------------\u001b[0m",
            "\u001b[0;31mNameError\u001b[0m                                 Traceback (most recent call last)",
            "\u001b[0;32m<ipython-input-37-96a7ccdde126>\u001b[0m in \u001b[0;36m<module>\u001b[0;34m()\u001b[0m\n\u001b[1;32m     26\u001b[0m       \u001b[0mnext_observation\u001b[0m\u001b[0;34m,\u001b[0m \u001b[0mreward\u001b[0m\u001b[0;34m,\u001b[0m \u001b[0mdone\u001b[0m\u001b[0;34m,\u001b[0m \u001b[0minfo\u001b[0m \u001b[0;34m=\u001b[0m \u001b[0menv\u001b[0m\u001b[0;34m.\u001b[0m\u001b[0mstep\u001b[0m\u001b[0;34m(\u001b[0m\u001b[0maction\u001b[0m\u001b[0;34m)\u001b[0m\u001b[0;34m\u001b[0m\u001b[0;34m\u001b[0m\u001b[0m\n\u001b[1;32m     27\u001b[0m       \u001b[0;31m# add to memory\u001b[0m\u001b[0;34m\u001b[0m\u001b[0;34m\u001b[0m\u001b[0;34m\u001b[0m\u001b[0m\n\u001b[0;32m---> 28\u001b[0;31m       \u001b[0mmemory\u001b[0m\u001b[0;34m.\u001b[0m\u001b[0madd_to_memory\u001b[0m\u001b[0;34m(\u001b[0m\u001b[0mobservation\u001b[0m\u001b[0;34m,\u001b[0m \u001b[0maction\u001b[0m\u001b[0;34m,\u001b[0m \u001b[0mreward\u001b[0m\u001b[0;34m)\u001b[0m\u001b[0;34m\u001b[0m\u001b[0;34m\u001b[0m\u001b[0m\n\u001b[0m\u001b[1;32m     29\u001b[0m \u001b[0;34m\u001b[0m\u001b[0m\n\u001b[1;32m     30\u001b[0m       \u001b[0;31m# is the episode over? did you crash or do so well that you're done?\u001b[0m\u001b[0;34m\u001b[0m\u001b[0;34m\u001b[0m\u001b[0;34m\u001b[0m\u001b[0m\n",
            "\u001b[0;32m<ipython-input-33-6153a535f655>\u001b[0m in \u001b[0;36madd_to_memory\u001b[0;34m(self, new_observation, new_action, new_reward)\u001b[0m\n\u001b[1;32m     17\u001b[0m       \u001b[0mself\u001b[0m\u001b[0;34m.\u001b[0m\u001b[0mactions\u001b[0m\u001b[0;34m.\u001b[0m\u001b[0mappend\u001b[0m\u001b[0;34m(\u001b[0m\u001b[0mnew_action\u001b[0m\u001b[0;34m)\u001b[0m\u001b[0;34m\u001b[0m\u001b[0;34m\u001b[0m\u001b[0m\n\u001b[1;32m     18\u001b[0m       \u001b[0;34m'''TODO: update the list of rewards with new reward'''\u001b[0m\u001b[0;34m\u001b[0m\u001b[0;34m\u001b[0m\u001b[0m\n\u001b[0;32m---> 19\u001b[0;31m       \u001b[0mself\u001b[0m\u001b[0;34m.\u001b[0m\u001b[0mrewards\u001b[0m\u001b[0;34m.\u001b[0m\u001b[0mappend\u001b[0m\u001b[0;34m(\u001b[0m\u001b[0mnew_append\u001b[0m\u001b[0;34m)\u001b[0m\u001b[0;34m\u001b[0m\u001b[0;34m\u001b[0m\u001b[0m\n\u001b[0m\u001b[1;32m     20\u001b[0m \u001b[0;34m\u001b[0m\u001b[0m\n\u001b[1;32m     21\u001b[0m \u001b[0mmemory\u001b[0m \u001b[0;34m=\u001b[0m \u001b[0mMemory\u001b[0m\u001b[0;34m(\u001b[0m\u001b[0;34m)\u001b[0m\u001b[0;34m\u001b[0m\u001b[0;34m\u001b[0m\u001b[0m\n",
            "\u001b[0;31mNameError\u001b[0m: name 'new_append' is not defined"
          ]
        }
      ]
    },
    {
      "cell_type": "markdown",
      "metadata": {
        "id": "mkcUtGF1VE-K",
        "colab_type": "text"
      },
      "source": [
        "To get a sense of how our agent did, we can save a video of the trained model working on balancing the pole. Realize that this is a brand new environment that the agent has not seen before!\n",
        "\n",
        "Let's display the saved video to watch how our agent did!\n"
      ]
    },
    {
      "cell_type": "code",
      "metadata": {
        "id": "PAYBkv6Zbk0J",
        "colab_type": "code",
        "outputId": "3449fe0c-4ac6-46c4-be61-080f4cfc9e04",
        "colab": {
          "base_uri": "https://localhost:8080/",
          "height": 560
        }
      },
      "source": [
        "saved_cartpole = mdl.lab3.save_video_of_model(cartpole_model, \"CartPole-v0\")\n",
        "mdl.lab3.play_video(saved_cartpole)"
      ],
      "execution_count": 0,
      "outputs": [
        {
          "output_type": "stream",
          "text": [
            "WARNING:tensorflow:Layer dense_14 is casting an input tensor from dtype float64 to the layer's dtype of float32, which is new behavior in TensorFlow 2.  The layer has dtype float32 because it's dtype defaults to floatx.\n",
            "\n",
            "If you intended to run this layer in float32, you can safely ignore this warning. If in doubt, this warning is likely only an issue if you are porting a TensorFlow 1.X model to TensorFlow 2.\n",
            "\n",
            "To change all layers to have dtype float64 by default, call `tf.keras.backend.set_floatx('float64')`. To change just this layer, pass dtype='float64' to the layer constructor. If you are the author of this layer, you can disable autocasting by passing autocast=False to the base Layer constructor.\n",
            "\n",
            "Successfully saved 200 frames into CartPole-v0.mp4!\n"
          ],
          "name": "stdout"
        },
        {
          "output_type": "execute_result",
          "data": {
            "text/html": [
              "\n",
              "        <video controls>\n",
              "            <source src=\"data:video/mp4;base64,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\" type=\"video/mp4\" />\n",
              "        </video>"
            ],
            "text/plain": [
              "<IPython.core.display.HTML object>"
            ]
          },
          "metadata": {
            "tags": []
          },
          "execution_count": 38
        }
      ]
    },
    {
      "cell_type": "markdown",
      "metadata": {
        "id": "CSbVNDpaVb3_",
        "colab_type": "text"
      },
      "source": [
        "How does the agent perform? Could you train it for shorter amounts of time and still perform well? Do you think that training longer would help even more? "
      ]
    },
    {
      "cell_type": "markdown",
      "metadata": {
        "id": "Eu6Mqxc720ST",
        "colab_type": "text"
      },
      "source": [
        "#Part 2: Pong\n",
        "\n",
        "In Cartpole, we dealt with an environment that was static -- in other words, it didn't change over time. What happens if our environment is dynamic and unpredictable? Well that's exactly the case in [Pong](https://en.wikipedia.org/wiki/Pong), since part of the environment is the opposing player. We don't know how our opponent will act or react to our actions, so the complexity of our problem increases. It also becomes much more interesting, since we can compete to beat our opponent. RL provides a powerful framework for training AI systems with the ability to handle and interact with dynamic, unpredictable environments. In this part of the lab, we'll use the tools and workflow we explored in Part 1 to build an RL agent capable of playing the game of Pong.\n"
      ]
    },
    {
      "cell_type": "markdown",
      "metadata": {
        "id": "srZ4YE29isuA",
        "colab_type": "text"
      },
      "source": [
        "## 3.6 Define and inspect the Pong environment\n",
        "\n",
        "As with Cartpole, we'll instantiate the Pong environment in the OpenAI gym, using a seed of 1."
      ]
    },
    {
      "cell_type": "code",
      "metadata": {
        "id": "lbYHLr66i15n",
        "colab_type": "code",
        "colab": {}
      },
      "source": [
        "env = gym.make(\"Pong-v0\", frameskip=5)\n",
        "env.seed(1); # for reproducibility"
      ],
      "execution_count": 0,
      "outputs": []
    },
    {
      "cell_type": "markdown",
      "metadata": {
        "id": "52uZ2Xhyi-MW",
        "colab_type": "text"
      },
      "source": [
        "Let's next consider the observation space for the Pong environment. Instead of four physical descriptors of the cart-pole setup, in the case of Pong our observations are the individual video frames (i.e., images) that depict the state of the board. Thus, the observations are 210x160 RGB images (arrays of shape (210,160,3)).\n",
        "\n",
        "We can again confirm the size of the observation space by query:"
      ]
    },
    {
      "cell_type": "code",
      "metadata": {
        "id": "0yX4GWvxjnHS",
        "colab_type": "code",
        "outputId": "b4f351af-13bf-4455-f3b8-08c8efcb1fcd",
        "colab": {
          "base_uri": "https://localhost:8080/",
          "height": 34
        }
      },
      "source": [
        "print(\"Environment has observation space =\", env.observation_space)"
      ],
      "execution_count": 0,
      "outputs": [
        {
          "output_type": "stream",
          "text": [
            "Environment has observation space = Box(210, 160, 3)\n"
          ],
          "name": "stdout"
        }
      ]
    },
    {
      "cell_type": "markdown",
      "metadata": {
        "id": "uuEC2TdSjx9D",
        "colab_type": "text"
      },
      "source": [
        "In Pong, at every time step, the agent (which controls the paddle) has six actions to choose from: no-op (no operation), move right, move left, fire, fire right, and fire left. Let's confirm the size of the action space by querying the environment:"
      ]
    },
    {
      "cell_type": "code",
      "metadata": {
        "id": "Iuy9oPc1kag3",
        "colab_type": "code",
        "outputId": "425b1b0c-aa1c-435c-90bc-e57a7e338219",
        "colab": {
          "base_uri": "https://localhost:8080/",
          "height": 34
        }
      },
      "source": [
        "n_actions = env.action_space.n\n",
        "print(\"Number of possible actions that the agent can choose from =\", n_actions)"
      ],
      "execution_count": 0,
      "outputs": [
        {
          "output_type": "stream",
          "text": [
            "Number of possible actions that the agent can choose from = 6\n"
          ],
          "name": "stdout"
        }
      ]
    },
    {
      "cell_type": "markdown",
      "metadata": {
        "id": "9-fghDRigUE5",
        "colab_type": "text"
      },
      "source": [
        "## 3.7 Define the Pong agent\n",
        "\n",
        "As before, we'll use a neural network to define our agent. What network architecture do you think would be especially well suited to this game? Since our observations are now in the form of images, we'll add convolutional layers to the network to increase the learning capacity of our network."
      ]
    },
    {
      "cell_type": "code",
      "metadata": {
        "id": "IJiqbFYpgYRH",
        "colab_type": "code",
        "colab": {}
      },
      "source": [
        "### Define the Pong agent ###\n",
        "\n",
        "# Functionally define layers for convenience\n",
        "# All convolutional layers will have ReLu activation\n",
        "Conv2D = functools.partial(tf.keras.layers.Conv2D, padding='same', activation='relu')\n",
        "Flatten = tf.keras.layers.Flatten\n",
        "Dense = tf.keras.layers.Dense\n",
        "\n",
        "# Defines a CNN for the Pong agent\n",
        "def create_pong_model():\n",
        "  model = tf.keras.models.Sequential([\n",
        "    # Convolutional layers\n",
        "    # First, 16 7x7 filters with 4x4 stride\n",
        "    Conv2D(filters=16, kernel_size=7, strides=4),\n",
        "\n",
        "    # TODO: define convolutional layers with 32 5x5 filters and 2x2 stride\n",
        "    Conv2D(filters=32 , kernel_size=5 , strides=2),\n",
        "\n",
        "    # TODO: define convolutional layers with 48 3x3 filters and 2x2 stride\n",
        "    Conv2D(filters=48 , kernel_size=3 , strides=2),\n",
        "\n",
        "    Flatten(),\n",
        "    \n",
        "    # Fully connected layer and output\n",
        "    Dense(units=64, activation='relu'),\n",
        "    # TODO: define the output dimension of the last Dense layer. \n",
        "    # Pay attention to the space the agent needs to act in\n",
        "    Dense(units=n_actions , activation=None)\n",
        "  \n",
        "  ])\n",
        "  return model\n",
        "\n",
        "pong_model = create_pong_model()"
      ],
      "execution_count": 0,
      "outputs": []
    },
    {
      "cell_type": "markdown",
      "metadata": {
        "id": "yaeZ067olFiJ",
        "colab_type": "text"
      },
      "source": [
        "Since we've already defined the action function, `choose_action(model, observation)`, we don't need to define it again. Instead, we'll be able to reuse it later on by passing in our new model we've just created, `pong_model`. This is awesome because our action function provides a modular and generalizable method for all sorts of RL agents!"
      ]
    },
    {
      "cell_type": "markdown",
      "metadata": {
        "id": "l0RvqOVkmc2r",
        "colab_type": "text"
      },
      "source": [
        "## 3.8 Pong-specific functions\n",
        "\n",
        "In Part 1 (Cartpole), we implemented some key functions and classes to build and train our RL agent -- `choose_action(model, observation)` and the `Memory` class, for example. However, in getting ready to apply these to a new game like Pong, we might need to make some slight modifications. \n",
        "\n",
        "Namely, we need to think about what happens when a game ends. In Pong, we know a game has ended if the reward is +1 (we won!) or -1 (we lost unfortunately). Otherwise, we expect the reward at a timestep to be zero -- the players (or agents) are just playing eachother. So, after a game ends, we will need to reset the reward to zero when a game ends. This will result in a modified reward function."
      ]
    },
    {
      "cell_type": "code",
      "metadata": {
        "id": "iEZG2o50luLu",
        "colab_type": "code",
        "colab": {}
      },
      "source": [
        "### Pong reward function ###\n",
        "\n",
        "# Compute normalized, discounted rewards for Pong (i.e., return)\n",
        "# Arguments:\n",
        "#   rewards: reward at timesteps in episode\n",
        "#   gamma: discounting factor. Note increase to 0.99 -- rate of depreciation will be slower.\n",
        "# Returns:\n",
        "#   normalized discounted reward\n",
        "def discount_rewards(rewards, gamma=0.99): \n",
        "  discounted_rewards = np.zeros_like(rewards)\n",
        "  R = 0\n",
        "  for t in reversed(range(0, len(rewards))):\n",
        "      # NEW: Reset the sum if the reward is not 0 (the game has ended!)\n",
        "      if rewards[t] != 0:\n",
        "        R = 0\n",
        "      # update the total discounted reward as before\n",
        "      R = R * gamma + rewards[t]\n",
        "      discounted_rewards[t] = R\n",
        "      \n",
        "  return normalize(discounted_rewards)"
      ],
      "execution_count": 0,
      "outputs": []
    },
    {
      "cell_type": "markdown",
      "metadata": {
        "id": "HopLpb4IoOqA",
        "colab_type": "text"
      },
      "source": [
        "Additionally, we have to consider the nature of the observations in the Pong environment, and how they will be fed into our network. Our observations in this case are images. Before we input an image into our network, we'll do a bit of pre-processing to crop and scale, clean up the background colors to a single color, and set the important game elements to a single color. Let's use this function to visualize what an observation might look like before and after pre-processing."
      ]
    },
    {
      "cell_type": "code",
      "metadata": {
        "id": "no5IIYtFm8pI",
        "colab_type": "code",
        "outputId": "46787ddc-d6d5-4568-82d1-cd207ea02dfb",
        "colab": {
          "base_uri": "https://localhost:8080/",
          "height": 227
        }
      },
      "source": [
        "observation = env.reset()\n",
        "for i in range(30):\n",
        "  observation, _,_,_ = env.step(0)\n",
        "observation_pp = mdl.lab3.preprocess_pong(observation)\n",
        "\n",
        "f = plt.figure(figsize=(10,3))\n",
        "ax = f.add_subplot(121)\n",
        "ax2 = f.add_subplot(122)\n",
        "ax.imshow(observation); ax.grid(False);\n",
        "ax2.imshow(np.squeeze(observation_pp)); ax2.grid(False); plt.title('Preprocessed Observation');"
      ],
      "execution_count": 0,
      "outputs": [
        {
          "output_type": "display_data",
          "data": {
            "image/png": "[encoded data removed]",
            "text/plain": [
              "<Figure size 720x216 with 2 Axes>"
            ]
          },
          "metadata": {
            "tags": [],
            "needs_background": "light"
          }
        }
      ]
    },
    {
      "cell_type": "markdown",
      "metadata": {
        "id": "bYwIWC-Cz8F2",
        "colab_type": "text"
      },
      "source": [
        "What do you notice? How might these changes be important for training our RL algorithm?"
      ]
    },
    {
      "cell_type": "markdown",
      "metadata": {
        "id": "mRqcaDQ1pm3x",
        "colab_type": "text"
      },
      "source": [
        "## 3.9 Training Pong\n",
        "\n",
        "We're now all set up to start training our RL algorithm and agent for the game of Pong! We've already defined our loss function with `compute_loss`, which employs policy gradient learning, as well as our backpropagation step with `train_step` which is beautiful! We will use these functions to execute training the Pong agent. Let's walk through the training block.\n",
        "\n",
        "In Pong, rather than feeding our network one image at a time, it can actually improve performance to input the difference between two consecutive observations, which really gives us information about the movement between frames -- how the game is changing. We'll first pre-process the raw observation, `x`, and then we'll compute the difference with the image frame we saw one timestep before. \n",
        "\n",
        "This observation change will be forward propagated through our Pong agent, the CNN network model, which will then predict the next action to take based on this observation. The raw reward will be computed, and the observation, action, and reward will be recorded into memory. This will continue until a training episode, i.e., a game, ends.\n",
        "\n",
        "Then, we will compute the discounted rewards, and use this information to execute a training step. Memory will be cleared, and we will do it all over again!\n",
        "\n",
        "Let's run the code block to train our Pong agent. Note that completing training will take quite a bit of time (estimated at least a couple of hours). We will again visualize the evolution of the total reward as a function of training to get a sense of how the agent is learning."
      ]
    },
    {
      "cell_type": "code",
      "metadata": {
        "id": "xCwyQQrPnkZG",
        "colab_type": "code",
        "outputId": "b4a90dda-8dc1-4511-ad85-6d7a6cf786b9",
        "colab": {
          "base_uri": "https://localhost:8080/",
          "height": 350
        }
      },
      "source": [
        "### Training Pong ###\n",
        "\n",
        "# Hyperparameters\n",
        "learning_rate=1e-4\n",
        "MAX_ITERS = 10000 # increase the maximum number of episodes, since Pong is more complex!\n",
        "\n",
        "# Model and optimizer\n",
        "pong_model = create_pong_model()\n",
        "optimizer = tf.keras.optimizers.Adam(learning_rate)\n",
        "\n",
        "# plotting\n",
        "smoothed_reward = mdl.util.LossHistory(smoothing_factor=0.9)\n",
        "plotter = mdl.util.PeriodicPlotter(sec=5, xlabel='Iterations', ylabel='Rewards')\n",
        "memory = Memory()\n",
        "\n",
        "for i_episode in range(MAX_ITERS):\n",
        "\n",
        "  plotter.plot(smoothed_reward.get())\n",
        "\n",
        "  # Restart the environment\n",
        "  observation = env.reset()\n",
        "  previous_frame = mdl.lab3.preprocess_pong(observation)\n",
        "\n",
        "  while True:\n",
        "      # Pre-process image \n",
        "      current_frame = mdl.lab3.preprocess_pong(observation)\n",
        "      \n",
        "      '''TODO: determine the observation change\n",
        "      Hint: this is the difference between the past two frames'''\n",
        "      obs_change = current_frame - previous_frame\n",
        "      \n",
        "      '''TODO: choose an action for the pong model, using the frame difference, and evaluate'''\n",
        "      action = choose_action(pong_model , obs_change)\n",
        "      # Take the chosen action\n",
        "      next_observation, reward, done, info = env.step(action)\n",
        "\n",
        "      '''TODO: save the observed frame difference, the action that was taken, and the resulting reward!'''\n",
        "      memory.add_to_memory(obs_change, action, reward)\n",
        "      \n",
        "      # is the episode over? did you crash or do so well that you're done?\n",
        "      if done:\n",
        "          # determine total reward and keep a record of this\n",
        "          total_reward = sum(memory.rewards)\n",
        "          smoothed_reward.append( total_reward )\n",
        "\n",
        "          # begin training\n",
        "          train_step(pong_model, \n",
        "                     optimizer, \n",
        "                     observations = np.stack(memory.observations, 0), \n",
        "                     actions = np.array(memory.actions),\n",
        "                     discounted_rewards = discount_rewards(memory.rewards))\n",
        "          \n",
        "          memory.clear()\n",
        "          break\n",
        "\n",
        "      observation = next_observation\n",
        "      previous_frame = current_frame"
      ],
      "execution_count": 0,
      "outputs": [
        {
          "output_type": "error",
          "ename": "NameError",
          "evalue": "ignored",
          "traceback": [
            "\u001b[0;31m---------------------------------------------------------------------------\u001b[0m",
            "\u001b[0;31mNameError\u001b[0m                                 Traceback (most recent call last)",
            "\u001b[0;32m<ipython-input-46-140fa0bb0b6e>\u001b[0m in \u001b[0;36m<module>\u001b[0;34m()\u001b[0m\n\u001b[1;32m     36\u001b[0m \u001b[0;34m\u001b[0m\u001b[0m\n\u001b[1;32m     37\u001b[0m       \u001b[0;34m'''TODO: save the observed frame difference, the action that was taken, and the resulting reward!'''\u001b[0m\u001b[0;34m\u001b[0m\u001b[0;34m\u001b[0m\u001b[0m\n\u001b[0;32m---> 38\u001b[0;31m       \u001b[0mmemory\u001b[0m\u001b[0;34m.\u001b[0m\u001b[0madd_to_memory\u001b[0m\u001b[0;34m(\u001b[0m\u001b[0mobs_change\u001b[0m\u001b[0;34m,\u001b[0m \u001b[0maction\u001b[0m\u001b[0;34m,\u001b[0m \u001b[0mreward\u001b[0m\u001b[0;34m)\u001b[0m\u001b[0;34m\u001b[0m\u001b[0;34m\u001b[0m\u001b[0m\n\u001b[0m\u001b[1;32m     39\u001b[0m \u001b[0;34m\u001b[0m\u001b[0m\n\u001b[1;32m     40\u001b[0m       \u001b[0;31m# is the episode over? did you crash or do so well that you're done?\u001b[0m\u001b[0;34m\u001b[0m\u001b[0;34m\u001b[0m\u001b[0;34m\u001b[0m\u001b[0m\n",
            "\u001b[0;32m<ipython-input-33-6153a535f655>\u001b[0m in \u001b[0;36madd_to_memory\u001b[0;34m(self, new_observation, new_action, new_reward)\u001b[0m\n\u001b[1;32m     17\u001b[0m       \u001b[0mself\u001b[0m\u001b[0;34m.\u001b[0m\u001b[0mactions\u001b[0m\u001b[0;34m.\u001b[0m\u001b[0mappend\u001b[0m\u001b[0;34m(\u001b[0m\u001b[0mnew_action\u001b[0m\u001b[0;34m)\u001b[0m\u001b[0;34m\u001b[0m\u001b[0;34m\u001b[0m\u001b[0m\n\u001b[1;32m     18\u001b[0m       \u001b[0;34m'''TODO: update the list of rewards with new reward'''\u001b[0m\u001b[0;34m\u001b[0m\u001b[0;34m\u001b[0m\u001b[0m\n\u001b[0;32m---> 19\u001b[0;31m       \u001b[0mself\u001b[0m\u001b[0;34m.\u001b[0m\u001b[0mrewards\u001b[0m\u001b[0;34m.\u001b[0m\u001b[0mappend\u001b[0m\u001b[0;34m(\u001b[0m\u001b[0mnew_append\u001b[0m\u001b[0;34m)\u001b[0m\u001b[0;34m\u001b[0m\u001b[0;34m\u001b[0m\u001b[0m\n\u001b[0m\u001b[1;32m     20\u001b[0m \u001b[0;34m\u001b[0m\u001b[0m\n\u001b[1;32m     21\u001b[0m \u001b[0mmemory\u001b[0m \u001b[0;34m=\u001b[0m \u001b[0mMemory\u001b[0m\u001b[0;34m(\u001b[0m\u001b[0;34m)\u001b[0m\u001b[0;34m\u001b[0m\u001b[0;34m\u001b[0m\u001b[0m\n",
            "\u001b[0;31mNameError\u001b[0m: name 'new_append' is not defined"
          ]
        }
      ]
    },
    {
      "cell_type": "markdown",
      "metadata": {
        "id": "8LiEY5Y_ts-Z",
        "colab_type": "text"
      },
      "source": [
        "Finally we can put our trained agent to the test! It will play in a newly instantiated Pong environment against the \"computer\", a base AI system for Pong. Your agent plays as the green paddle. Let's watch the match instant replay!"
      ]
    },
    {
      "cell_type": "code",
      "metadata": {
        "id": "TvHXbkL0tR6M",
        "colab_type": "code",
        "outputId": "143968d8-78cf-4b64-9f74-94f8db68ccf4",
        "colab": {
          "base_uri": "https://localhost:8080/",
          "height": 248
        }
      },
      "source": [
        "saved_pong = mdl.lab3.save_video_of_model(\n",
        "    pong_model, \"Pong-v0\", obs_diff=True, \n",
        "    pp_fn=mdl.lab3.preprocess_pong)\n",
        "mdl.lab3.play_video(saved_pong)"
      ],
      "execution_count": 0,
      "outputs": [
        {
          "output_type": "stream",
          "text": [
            "Successfully saved 1155 frames into Pong-v0.mp4!\n"
          ],
          "name": "stdout"
        },
        {
          "output_type": "execute_result",
          "data": {
            "text/html": [
              "\n",
              "        <video controls>\n",
              "            <source src=\"data:video/mp4;base64,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\" type=\"video/mp4\" />\n",
              "        </video>"
            ],
            "text/plain": [
              "<IPython.core.display.HTML object>"
            ]
          },
          "metadata": {
            "tags": []
          },
          "execution_count": 49
        }
      ]
    },
    {
      "cell_type": "markdown",
      "metadata": {
        "id": "TIlwIgBP3Js6",
        "colab_type": "text"
      },
      "source": [
        "## 3.10 Conclusion\n",
        "\n",
        "That's it! Congratulations on training two RL agents and putting them to the test! We encourage you to consider the following:\n",
        "\n",
        "*   How does the agent perform?\n",
        "*   Could you train it for shorter amounts of time  and still perform well?\n",
        "*   Do you think that training longer would help even more? \n",
        "* How does the complexity of Pong relative to Cartpole alter the rate at which the agent learns and its performance? \n",
        "* What are some things you could change about the agent or the learning process to potentially improve performance?\n",
        "\n",
        "If you want to go further, try to optimize your model to achieve the best performance! **[Email us](mailto:introtodeeplearning-staff@mit.edu) a copy of your notebook with the Pong training executed AND a saved video of your Pong agent competing! We'll give out prizes to the best performers!**"
      ]
    }
  ]
}